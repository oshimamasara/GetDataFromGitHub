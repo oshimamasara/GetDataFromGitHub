{
  "nbformat": 4,
  "nbformat_minor": 0,
  "metadata": {
    "colab": {
      "name": "Get Data From GitHub",
      "provenance": []
    },
    "kernelspec": {
      "name": "python3",
      "display_name": "Python 3"
    }
  },
  "cells": [
    {
      "cell_type": "markdown",
      "metadata": {
        "id": "x2HiQreuhpDB",
        "colab_type": "text"
      },
      "source": [
        "## 2018.01 から 2019.10 までの 新規リポジトリ数を取得\n",
        "\n",
        "Dart, Kotlin, Java で比較"
      ]
    },
    {
      "cell_type": "code",
      "metadata": {
        "id": "vA4qL_YdheeW",
        "colab_type": "code",
        "colab": {}
      },
      "source": [
        "import json\n",
        "import requests\n",
        "import datetime\n",
        "import csv\n",
        "import time\n",
        "\n",
        "# API  sample_URL = \"https://api.github.com/search/repositories?q=created%3A\" + 2018-01 + \"+language%3A\" + Dart\n",
        "year = [\"2018\", \"2019\"]\n",
        "month = [\"01\",\"02\",\"03\",\"04\",\"05\",\"06\",\"07\",\"08\",\"09\",\"10\",\"11\",\"12\"]\n",
        "language = [\"Dart\",\"Kotlin\",\"Java\"]\n",
        "\n",
        "for l in language:\n",
        "  print(l)\n",
        "  for y in year:\n",
        "    for m in month:\n",
        "      check_point = y + \"年\" + m + \"月\"\n",
        "      print(check_point)\n",
        "      url = \"https://api.github.com/search/repositories?q=created%3A\" + y + \"-\" + m + \"+language%3A\" + l\n",
        "      response = requests.get(url)\n",
        "      data = json.loads(response.text)\n",
        "      x = data[\"total_count\"]\n",
        "      print(x)\n",
        "\n",
        "      with open(\"GitHub-Data.csv\", \"a\") as csvFile:\n",
        "        fieldnames = [ \"Language\", \"date\", \"count\"]\n",
        "        writer = csv.DictWriter(csvFile, fieldnames=fieldnames)\n",
        "        writer.writerow({ \"Language\":l, \"date\":check_point,\"count\":x})\n",
        "        csvFile.close()\n",
        "        time.sleep(7)"
      ],
      "execution_count": 0,
      "outputs": []
    }
  ]
}